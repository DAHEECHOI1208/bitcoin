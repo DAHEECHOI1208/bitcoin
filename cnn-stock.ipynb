{
 "cells": [
  {
   "cell_type": "markdown",
   "metadata": {},
   "source": [
    "# Module"
   ]
  },
  {
   "cell_type": "code",
   "execution_count": 1,
   "metadata": {},
   "outputs": [
    {
     "name": "stderr",
     "output_type": "stream",
     "text": [
      "Using TensorFlow backend.\n"
     ]
    }
   ],
   "source": [
    "import pandas as pd\n",
    "import matplotlib.pyplot as plt\n",
    "import numpy as np \n",
    "import keras \n",
    "import tensorflow as tf\n",
    "\n",
    "%matplotlib inline"
   ]
  },
  {
   "cell_type": "markdown",
   "metadata": {},
   "source": [
    "# Utility\n",
    "\n",
    "for cnn\n",
    "\n",
    "1. png_construct\n",
    "2. png_to_matrix\n",
    "3. shuffling_data\n",
    "\n",
    "for All\n",
    "\n",
    "4. train_valid_divide\n",
    "5. csv_to_dataset"
   ]
  },
  {
   "cell_type": "code",
   "execution_count": 1,
   "metadata": {},
   "outputs": [],
   "source": [
    "def csv_to_dataset(is_cnn = True, csvpath = \"./bitcoin_ticker.csv\", fromidx = 39000) : \n",
    "    \n",
    "    def df_norm(df) : \n",
    "        newdf = (df - df.mean()) /(df.max() - df.min()) \n",
    "        return newdf - newdf.min()\n",
    "    \n",
    "    data = pd.read_csv('./bitcoin_ticker.csv')\n",
    "    data = data[data['market'] == 'korbit']\n",
    "    data = data[data['rpt_key'] == 'btc_krw']\n",
    "    data = data[['last', 'volume']]\n",
    "    \n",
    "    data_norm = df_norm(data)\n",
    "    data_pretty = data_norm[fromidx:] # data from 2017/06/28\n",
    "    \n",
    "    plt.plot(data_pretty)\n",
    "    plt.show()\n",
    "    \n",
    "    x_data = []\n",
    "    y_data = []\n",
    "    \n",
    "    data_pretty_values= data_pretty.values\n",
    "    \n",
    "    if is_cnn :\n",
    "        for i in range(30, data_pretty.shape[0]-6) : \n",
    "            x_data.append( df_norm( data_pretty[i-30: i] ).values )  #30 min\n",
    "\n",
    "            p1 = data_pretty_values[i,0] \n",
    "            p2 = data_pretty_values[i+5,0] \n",
    "\n",
    "            result = int(p2 > p1)   # y=1 => Going up  / y=0 => Going down\n",
    "            y_data.append(result)\n",
    "\n",
    "        x_data = np.array(x_data, np.float32)\n",
    "        y_data = np.array(y_data, np.float32)\n",
    "        y_data = np.reshape(y_data, [data_pretty.shape[0]-36, 1])\n",
    "        \n",
    "    else : \n",
    "        for i in range(30, data_pretty.shape[0]-6) : \n",
    "            x_data.append( data_pretty[i-30: i].values )  #30 min\n",
    "\n",
    "            p1 = data_pretty_values[i,0] \n",
    "            p2 = data_pretty_values[i+5,0] \n",
    "\n",
    "            result = int(p2 > p1)   # y=1 => Going up  / y=0 => Going down \n",
    "            y_data.append(result)\n",
    "\n",
    "        x_data = np.array(x_data, np.float32)\n",
    "        y_data = np.array(y_data, np.float32)\n",
    "        y_data = np.reshape(y_data, [data_pretty.shape[0]-36, 1])   \n",
    "        \n",
    "    return x_data, y_data"
   ]
  },
  {
   "cell_type": "code",
   "execution_count": 36,
   "metadata": {},
   "outputs": [
    {
     "data": {
      "image/png": "[encoded data removed]",
      "text/plain": [
       "<matplotlib.figure.Figure at 0x11da516a0>"
      ]
     },
     "metadata": {},
     "output_type": "display_data"
    },
    {
     "data": {
      "text/plain": [
       "(array([[[ 0.50904703,  0.34983221],\n",
       "         [ 0.52412546,  0.34950322],\n",
       "         [ 0.51085645,  0.34875932],\n",
       "         ..., \n",
       "         [ 0.44813028,  0.34425038],\n",
       "         [ 0.44813028,  0.34379199],\n",
       "         [ 0.44752714,  0.34359601]],\n",
       " \n",
       "        [[ 0.52412546,  0.34950322],\n",
       "         [ 0.51085645,  0.34875932],\n",
       "         [ 0.50844389,  0.34855136],\n",
       "         ..., \n",
       "         [ 0.44813028,  0.34379199],\n",
       "         [ 0.44752714,  0.34359601],\n",
       "         [ 0.44511458,  0.34325016]],\n",
       " \n",
       "        [[ 0.51085645,  0.34875932],\n",
       "         [ 0.50844389,  0.34855136],\n",
       "         [ 0.50603133,  0.34846744],\n",
       "         ..., \n",
       "         [ 0.44752714,  0.34359601],\n",
       "         [ 0.44511458,  0.34325016],\n",
       "         [ 0.44511458,  0.34294423]],\n",
       " \n",
       "        ..., \n",
       "        [[ 0.1544029 ,  0.23090224],\n",
       "         [ 0.15259349,  0.23139697],\n",
       "         [ 0.15259349,  0.23118572],\n",
       "         ..., \n",
       "         [ 0.15138721,  0.22824456],\n",
       "         [ 0.14354645,  0.22916065],\n",
       "         [ 0.15199035,  0.22916053]],\n",
       " \n",
       "        [[ 0.15259349,  0.23139697],\n",
       "         [ 0.15259349,  0.23118572],\n",
       "         [ 0.15319662,  0.23121728],\n",
       "         ..., \n",
       "         [ 0.14354645,  0.22916065],\n",
       "         [ 0.15199035,  0.22916053],\n",
       "         [ 0.13691194,  0.22909427]],\n",
       " \n",
       "        [[ 0.15259349,  0.23118572],\n",
       "         [ 0.15319662,  0.23121728],\n",
       "         [ 0.14414957,  0.23075677],\n",
       "         ..., \n",
       "         [ 0.15199035,  0.22916053],\n",
       "         [ 0.13691194,  0.22909427],\n",
       "         [ 0.13691194,  0.22858028]]], dtype=float32), array([[ 0.],\n",
       "        [ 0.],\n",
       "        [ 0.],\n",
       "        ..., \n",
       "        [ 1.],\n",
       "        [ 1.],\n",
       "        [ 1.]], dtype=float32))"
      ]
     },
     "execution_count": 36,
     "metadata": {},
     "output_type": "execute_result"
    }
   ],
   "source": [
    "csv_to_dataset(is_cnn = False, csvpath = \"./bitcoin_ticker.csv\", fromidx = 39000)"
   ]
  },
  {
   "cell_type": "code",
   "execution_count": 37,
   "metadata": {
    "scrolled": true
   },
   "outputs": [],
   "source": [
    "## image construction \n",
    "## input : numpy array with shape (batch, length, features) / directory / dpi = image size\n",
    "## output : -- \n",
    "## doing : making png files in selected directory\n",
    "\n",
    "def png_construct(data , directory = './x_data', dpi = 10) : \n",
    "    \n",
    "    for i in range(data.shape[0])  :     \n",
    "        fig = plt.figure(i , frameon=False)\n",
    "        fig.set_size_inches(5,5)\n",
    "\n",
    "        ax = plt.Axes(fig, [0., 0., 1., 1.])\n",
    "        ax.set_axis_off()\n",
    "        fig.add_axes(ax)\n",
    "\n",
    "        plt.plot(data[i, :, :], linewidth=5)\n",
    "        plt.ylim(0.0,1.0)\n",
    "\n",
    "        fig.savefig(directory +'/' + str(i) + '.png', transparant = True, pad_inches = 0 , dpi = dpi)\n",
    "\n",
    "        plt.close(fig)\n",
    "        if i == 0 :\n",
    "            print('<Start Constructing>')\n",
    "        elif i%1000 == 0 : \n",
    "            print('./x_data/' + str(i-999) + '.png to ' +'./x_data/' + str(i) + \".png have been saved\")\n",
    "        elif i == data.shape[0]-1 : \n",
    "            print('<Complete Image Constructing> : Total ',data.shape[0],' images into ', directory)\n",
    "        #print(batches[9000].shape)"
   ]
  },
  {
   "cell_type": "code",
   "execution_count": 38,
   "metadata": {},
   "outputs": [],
   "source": [
    "#image to matrix\n",
    "\n",
    "#input : number of images, directory \n",
    "#output : numpy array of images\n",
    "\n",
    "def png_to_matrix(num ,directory = './x_data'):  \n",
    "\n",
    "    import matplotlib.image as mpimg\n",
    "\n",
    "    x_data = [] \n",
    "\n",
    "    for i in range(num) :\n",
    "        img = mpimg.imread(directory+'/'+ str(i) +'.png') # type : np.float32\n",
    "\n",
    "        x_data.append(img)\n",
    "\n",
    "        if i == 0 :\n",
    "            print(\"<Start Transfer> : shape = \", img.shape)\n",
    "\n",
    "        #elif i%1000 == 0 : \n",
    "        #    print('./x_data/' + str(i-999) + '.png to ' +'./x_data/' + str(i) + \".png have been transfered to numpy Matrix.\")\n",
    "       \n",
    "        elif i == num-1 : \n",
    "            print('<Complete image to Matrix transfer>  : Total ',num ,' matrix into list => shape = ', img.shape)\n",
    "    \n",
    "    x_data = np.array(x_data, dtype=np.float32)\n",
    "    return x_data\n",
    "\n",
    "#print('x_data length: ',len(x_data)  , 'matrix shape: ' , x_data[0].shape)"
   ]
  },
  {
   "cell_type": "code",
   "execution_count": 39,
   "metadata": {},
   "outputs": [
    {
     "name": "stdout",
     "output_type": "stream",
     "text": [
      "batch length of x_data and y_data are not same\n"
     ]
    }
   ],
   "source": [
    "class DiffLengthError(Exception):\n",
    "    print('batch length of x_data and y_data are not same')"
   ]
  },
  {
   "cell_type": "code",
   "execution_count": 40,
   "metadata": {},
   "outputs": [],
   "source": [
    "# Shuffling datas\n",
    "#input : x_data, y_data with same length\n",
    "def shuffling_data(x_data, y_data) :\n",
    "    if x_data.shape[0] != y_data.shape[0]:\n",
    "        raise DiffLengthError\n",
    "        return 0\n",
    "    else : \n",
    "        from random import shuffle\n",
    "\n",
    "        x_data = list(x_data)\n",
    "        y_data = list(y_data)\n",
    "        # Given list1 and list2\n",
    "        list1_shuf = []\n",
    "        list2_shuf = []\n",
    "        index_shuf = list(range(len(x_data)))\n",
    "        shuffle(index_shuf)\n",
    "        for i in index_shuf:\n",
    "            list1_shuf.append(x_data[i])\n",
    "            list2_shuf.append(y_data[i])\n",
    "\n",
    "        x_data = np.array(list1_shuf)\n",
    "        y_data = np.array(list2_shuf)\n",
    "        \n",
    "        return x_data, y_data"
   ]
  },
  {
   "cell_type": "code",
   "execution_count": 41,
   "metadata": {},
   "outputs": [],
   "source": [
    "\n",
    "def train_valid_divide(x_data, y_data, per = 0.8) : \n",
    "    if x_data.shape[0] != y_data.shape[0]:\n",
    "        raise DiffLengthError\n",
    "        return 0\n",
    "    else : \n",
    "        if len(x_data.shape) ==4 : \n",
    "            l = x_data.shape[0]\n",
    "            tl = int(l * per )\n",
    "            train_x = x_data[:tl, :,:,:]\n",
    "            train_y = y_data[:tl, :]\n",
    "\n",
    "            valid_x = x_data[tl: ,:,:,:]\n",
    "            valid_y = y_data[tl:, :]\n",
    "\n",
    "            return train_x, train_y, valid_x, valid_y\n",
    "        elif len(x_data.shape) ==3 :\n",
    "            l = x_data.shape[0]\n",
    "            tl = int(l * per )\n",
    "            train_x = x_data[:tl, :,:]\n",
    "            train_y = y_data[:tl, :]\n",
    "\n",
    "            valid_x = x_data[tl: ,:,:]\n",
    "            valid_y = y_data[tl:, :]\n",
    "\n",
    "            return train_x, train_y, valid_x, valid_y\n"
   ]
  },
  {
   "cell_type": "markdown",
   "metadata": {},
   "source": [
    "# CNN  data"
   ]
  },
  {
   "cell_type": "code",
   "execution_count": 42,
   "metadata": {},
   "outputs": [
    {
     "data": {
      "image/png": "[encoded data removed]",
      "text/plain": [
       "<matplotlib.figure.Figure at 0x1210c9e80>"
      ]
     },
     "metadata": {},
     "output_type": "display_data"
    },
    {
     "ename": "FileNotFoundError",
     "evalue": "[Errno 2] No such file or directory: './x_data/0.png'",
     "output_type": "error",
     "traceback": [
      "\u001b[0;31m---------------------------------------------------------------------------\u001b[0m",
      "\u001b[0;31mFileNotFoundError\u001b[0m                         Traceback (most recent call last)",
      "\u001b[0;32m<ipython-input-42-9ed4b01ab03d>\u001b[0m in \u001b[0;36m<module>\u001b[0;34m()\u001b[0m\n\u001b[1;32m      2\u001b[0m \u001b[0;31m#png_constuct(x_data)\u001b[0m\u001b[0;34m\u001b[0m\u001b[0;34m\u001b[0m\u001b[0m\n\u001b[1;32m      3\u001b[0m \u001b[0;34m\u001b[0m\u001b[0m\n\u001b[0;32m----> 4\u001b[0;31m \u001b[0mcnn_x\u001b[0m \u001b[0;34m=\u001b[0m \u001b[0mpng_to_matrix\u001b[0m\u001b[0;34m(\u001b[0m\u001b[0mx_data\u001b[0m\u001b[0;34m.\u001b[0m\u001b[0mshape\u001b[0m\u001b[0;34m[\u001b[0m\u001b[0;36m0\u001b[0m\u001b[0;34m]\u001b[0m\u001b[0;34m)\u001b[0m\u001b[0;34m\u001b[0m\u001b[0m\n\u001b[0m\u001b[1;32m      5\u001b[0m \u001b[0mcnn_y\u001b[0m \u001b[0;34m=\u001b[0m \u001b[0my_data\u001b[0m\u001b[0;34m\u001b[0m\u001b[0m\n\u001b[1;32m      6\u001b[0m \u001b[0;34m\u001b[0m\u001b[0m\n",
      "\u001b[0;32m<ipython-input-38-1a4382f33396>\u001b[0m in \u001b[0;36mpng_to_matrix\u001b[0;34m(num, directory)\u001b[0m\n\u001b[1;32m     11\u001b[0m \u001b[0;34m\u001b[0m\u001b[0m\n\u001b[1;32m     12\u001b[0m     \u001b[0;32mfor\u001b[0m \u001b[0mi\u001b[0m \u001b[0;32min\u001b[0m \u001b[0mrange\u001b[0m\u001b[0;34m(\u001b[0m\u001b[0mnum\u001b[0m\u001b[0;34m)\u001b[0m \u001b[0;34m:\u001b[0m\u001b[0;34m\u001b[0m\u001b[0m\n\u001b[0;32m---> 13\u001b[0;31m         \u001b[0mimg\u001b[0m \u001b[0;34m=\u001b[0m \u001b[0mmpimg\u001b[0m\u001b[0;34m.\u001b[0m\u001b[0mimread\u001b[0m\u001b[0;34m(\u001b[0m\u001b[0mdirectory\u001b[0m\u001b[0;34m+\u001b[0m\u001b[0;34m'/'\u001b[0m\u001b[0;34m+\u001b[0m \u001b[0mstr\u001b[0m\u001b[0;34m(\u001b[0m\u001b[0mi\u001b[0m\u001b[0;34m)\u001b[0m \u001b[0;34m+\u001b[0m\u001b[0;34m'.png'\u001b[0m\u001b[0;34m)\u001b[0m \u001b[0;31m# type : np.float32\u001b[0m\u001b[0;34m\u001b[0m\u001b[0m\n\u001b[0m\u001b[1;32m     14\u001b[0m \u001b[0;34m\u001b[0m\u001b[0m\n\u001b[1;32m     15\u001b[0m         \u001b[0mx_data\u001b[0m\u001b[0;34m.\u001b[0m\u001b[0mappend\u001b[0m\u001b[0;34m(\u001b[0m\u001b[0mimg\u001b[0m\u001b[0;34m)\u001b[0m\u001b[0;34m\u001b[0m\u001b[0m\n",
      "\u001b[0;32m~/anaconda/envs/nlp2/lib/python3.6/site-packages/matplotlib/image.py\u001b[0m in \u001b[0;36mimread\u001b[0;34m(fname, format)\u001b[0m\n\u001b[1;32m   1297\u001b[0m             \u001b[0;32mreturn\u001b[0m \u001b[0mhandler\u001b[0m\u001b[0;34m(\u001b[0m\u001b[0mfd\u001b[0m\u001b[0;34m)\u001b[0m\u001b[0;34m\u001b[0m\u001b[0m\n\u001b[1;32m   1298\u001b[0m         \u001b[0;32melse\u001b[0m\u001b[0;34m:\u001b[0m\u001b[0;34m\u001b[0m\u001b[0m\n\u001b[0;32m-> 1299\u001b[0;31m             \u001b[0;32mwith\u001b[0m \u001b[0mopen\u001b[0m\u001b[0;34m(\u001b[0m\u001b[0mfname\u001b[0m\u001b[0;34m,\u001b[0m \u001b[0;34m'rb'\u001b[0m\u001b[0;34m)\u001b[0m \u001b[0;32mas\u001b[0m \u001b[0mfd\u001b[0m\u001b[0;34m:\u001b[0m\u001b[0;34m\u001b[0m\u001b[0m\n\u001b[0m\u001b[1;32m   1300\u001b[0m                 \u001b[0;32mreturn\u001b[0m \u001b[0mhandler\u001b[0m\u001b[0;34m(\u001b[0m\u001b[0mfd\u001b[0m\u001b[0;34m)\u001b[0m\u001b[0;34m\u001b[0m\u001b[0m\n\u001b[1;32m   1301\u001b[0m     \u001b[0;32melse\u001b[0m\u001b[0;34m:\u001b[0m\u001b[0;34m\u001b[0m\u001b[0m\n",
      "\u001b[0;31mFileNotFoundError\u001b[0m: [Errno 2] No such file or directory: './x_data/0.png'"
     ]
    }
   ],
   "source": [
    "x_data , y_data = csv_to_dataset(is_cnn = True, csvpath = \"./bitcoin_ticker.csv\", fromidx = 39000)\n",
    "#png_constuct(x_data)\n",
    "\n",
    "cnn_x = png_to_matrix(x_data.shape[0])\n",
    "cnn_y = y_data\n",
    "\n",
    "print('cnn_x.shape:',cnn_x.shape, 'cnn_y.shape',cnn_y.shape)\n",
    "\n",
    "cnn_x , cnn_y = shuffling_data(cnn_x, cnn_y)\n",
    "\n",
    "ctrain_x ,ctrain_y, cvalid_x, cvalid_y = train_valid_divide(cnn_x, cnn_y)\n",
    "\n",
    "print('ctrain_x, ctrain_y : ',ctrain_x.shape, ctrain_y.shape, 'cvalid_x, cvalid_y : ', cvalid_x.shape, cvalid_y.shape )"
   ]
  },
  {
   "cell_type": "code",
   "execution_count": null,
   "metadata": {},
   "outputs": [],
   "source": [
    "plt.imshow(cvalid_x[3])"
   ]
  },
  {
   "cell_type": "markdown",
   "metadata": {},
   "source": [
    "# Making CNN Graph"
   ]
  },
  {
   "cell_type": "code",
   "execution_count": null,
   "metadata": {},
   "outputs": [],
   "source": [
    "## Graph \n",
    "def cnn_graph(learning_rate = 0.001):\n",
    "    cnn = tf.Graph()\n",
    "    with cnn.as_default() : \n",
    "\n",
    "        #feed \n",
    "        X = tf.placeholder(name = \"X\", shape = [None, 50, 50 , 4], dtype = np.float32)\n",
    "        Y = tf.placeholder(name = \"Y\", shape = [None, 1], dtype = np.float32)\n",
    "\n",
    "        #TRAINABLE variables\n",
    "        w1 = tf.get_variable(shape = [3,3,4,32], initializer = tf.random_normal_initializer(stddev = 0.01, mean = 0.0), name = \"w1\")\n",
    "        #w2 = tf.get_variable(shape = [3,3,32,64], initializer= tf.random_normal_initializer(stddev = 0.01, mean= 0.0), name = 'w2')\n",
    "\n",
    "        #w3 = tf.get_variable(shape = [13*13*64 , 256], initializer= tf.random_normal_initializer(stddev = 0.01, mean = 0.0), name = \"w3\")\n",
    "        w3 = tf.get_variable(shape = [25*25*32 , 256], initializer= tf.random_normal_initializer(stddev = 0.01, mean = 0.0), name = \"w3\")\n",
    "        w4 = tf.get_variable(shape = [256 , 1], initializer= tf.random_normal_initializer(stddev = 0.01, mean = 0.0), name = \"w4\")\n",
    "\n",
    "        b3 = tf.get_variable(shape = [256], initializer= tf.random_normal_initializer(stddev = 0.01, mean = 0.0), name = \"b3\")\n",
    "        b4 = tf.get_variable(shape = [1], initializer= tf.random_normal_initializer(stddev = 0.01, mean = 0.0), name = \"b4\") \n",
    "\n",
    "        #Operations\n",
    "\n",
    "        #<conv1>\n",
    "        conv1_c = tf.nn.conv2d(X, w1 , strides = [1,1,1,1] , padding = 'SAME') \n",
    "        #conv1_c shape : [None, 50,50,32]\n",
    "        conv1_r = tf.nn.relu(conv1_c)\n",
    "        conv1_p = tf.nn.max_pool(conv1_r, ksize = [1,2,2,1] , strides = [1,2,2,1], padding = 'SAME')\n",
    "        #conv1_p shape : [None, 25,25, 32]\n",
    "\n",
    "        ##<conv2>\n",
    "        #conv2_c = tf.nn.conv2d(conv1_p , w2, strides = [1,1,1,1], padding = 'SAME')\n",
    "        ##conv2_c shape : [None, 25, 25, 64]\n",
    "        #conv2_r = tf.nn.relu(conv2_c)\n",
    "        #conv2_p = tf.nn.max_pool(conv2_r, ksize = [1,2,2,1], strides = [1,2,2,1], padding = 'SAME')\n",
    "        ##conv2_p shape : [None, 13, 13 ,64]\n",
    "\n",
    "        #<flattening>\n",
    "        #flattened = tf.reshape(conv2_p , [-1, 13*13*64])\n",
    "        flattened = tf.reshape(conv1_p , [-1, 25*25*32])\n",
    "\n",
    "        #<2 layer fully connected NN>\n",
    "        fc_1 = tf.nn.relu(tf.matmul(flattened , w3) + b3)\n",
    "        fc_2 = tf.nn.sigmoid(tf.matmul(fc_1, w4) + b4)\n",
    "\n",
    "\n",
    "        #Loss function : square mean \n",
    "        loss = tf.reduce_mean(tf.square(fc_2 - Y ))\n",
    "\n",
    "        #Optimizer : Adam Optimizer\n",
    "        optimizer = tf.train.AdamOptimizer(learning_rate)\n",
    "        train = optimizer.minimize(loss)\n",
    "\n",
    "        #Accuracy\n",
    "        fc_2 = fc_2 > 0.5\n",
    "        fc_2 = tf.to_float(fc_2)\n",
    "\n",
    "        accuracy = tf.reduce_mean(tf.to_float(tf.equal(fc_2, Y)))\n",
    "    tf.reset_default_graph()\n",
    "    op_list = [X, Y, loss, train, accuracy]\n",
    "    return cnn, op_list\n",
    "\n",
    "\n",
    "    \n",
    "    "
   ]
  },
  {
   "cell_type": "markdown",
   "metadata": {},
   "source": [
    "# RNN data"
   ]
  },
  {
   "cell_type": "code",
   "execution_count": null,
   "metadata": {},
   "outputs": [],
   "source": [
    "rnn_x = x_data \n",
    "rnn_y = y_data\n",
    "\n",
    "print(rnn_x.shape, rnn_y.shape)\n",
    "\n",
    "rtrain_x , rtrain_y, rvalid_x, rvalid_y = train_valid_divide(rnn_x, rnn_y)"
   ]
  },
  {
   "cell_type": "markdown",
   "metadata": {},
   "source": [
    "# Making RNN Graph"
   ]
  },
  {
   "cell_type": "code",
   "execution_count": null,
   "metadata": {},
   "outputs": [],
   "source": [
    "def rnn_graph(learning_rate = 0.001, n_hidden = 128) :\n",
    "    rnn = tf.Graph()\n",
    "    with rnn.as_default() : \n",
    "        #feed\n",
    "        X = tf.placeholder(tf.float32, [None, 30, 2], name = 'X')\n",
    "        Y = tf.placeholder(tf.float32, [None, 1], name = 'Y')\n",
    "        \n",
    "        #TRAINABLE variables\n",
    "        cell = tf.nn.rnn_cell.BasicRNNCell(n_hidden)\n",
    "        w = tf.get_variable(name = 'w', shape = [n_hidden, 1] ,initializer = tf.random_normal_initializer(stddev=0.01, mean=0.0))\n",
    "        b = tf.get_variable(name = 'b', shape = [1] ,initializer = tf.random_normal_initializer(stddev=0.01, mean=0.0))\n",
    "        \n",
    "        #Operations\n",
    "        \n",
    "        ##<RNN>\n",
    "        outputs, states = tf.nn.dynamic_rnn(cell, X, dtype=tf.float32) \n",
    "        # outputs shape : (None, n_step, n_hidden)\n",
    "        \n",
    "        outputs = tf.transpose(outputs, [1, 0, 2])\n",
    "        # outputs shape : (n_step, None, n_hidden)  \n",
    "        outputs = outputs[-1]  # From last cell\n",
    "        #shape : (None, n_hidden)  \n",
    "        \n",
    "        ##<basic NN>\n",
    "        fc = tf.nn.sigmoid(tf.matmul(outputs, w) + b)\n",
    "        \n",
    "        #Loss function\n",
    "        loss = tf.reduce_sum(tf.square(fc - Y))\n",
    "        \n",
    "        #Optimizer : Adam Optimizer\n",
    "        optimizer = tf.train.AdamOptimizer(learning_rate)\n",
    "        train = optimizer.minimize(loss)\n",
    "        \n",
    "        #Accuracy\n",
    "        fc = fc > 0.5\n",
    "        fc = tf.to_float(fc)\n",
    "        accuracy = tf.reduce_mean(tf.to_float(tf.equal(fc, Y)), name= 'accuracy')\n",
    "        \n",
    "    tf.reset_default_graph()\n",
    "    op_list = [X, Y, loss, train, accuracy]\n",
    "    \n",
    "    return rnn , op_list"
   ]
  },
  {
   "cell_type": "markdown",
   "metadata": {},
   "source": [
    "# Runtime "
   ]
  },
  {
   "cell_type": "code",
   "execution_count": null,
   "metadata": {},
   "outputs": [],
   "source": [
    "\n",
    "def runtime(name , g , op_list , datalist , ckptfile = None, total_epoches = 2, batch_size = 100) : \n",
    "    ## Runtime \n",
    "    import time \n",
    "    X, Y, loss, train, accuracy  = op_list[0], op_list[1], op_list[2], op_list[3], op_list[4]\n",
    "    train_x, train_y, valid_x, valid_y = datalist[0] ,datalist[1], datalist[2], datalist[3]\n",
    "    \n",
    "    with tf.Session(graph=g) as sess : \n",
    "        saver = tf.train.Saver()\n",
    "        sess.run(tf.global_variables_initializer())\n",
    "        if ckptfile == None  : \n",
    "\n",
    "            ## <training> \n",
    "            total_batches = int(train_x.shape[0]/batch_size)\n",
    "\n",
    "            print(\"Training Start : epoch = \", total_epoches, \", each epoch has \", total_batches,\" batch.\"  )\n",
    "\n",
    "            for epoch in range(total_epoches) :\n",
    "                print(\"<epoch \", epoch,\" >\")\n",
    "                total_loss = 0\n",
    "                epoch_start = time.time()\n",
    "                for i in range(total_batches) : \n",
    "                    if len(train_x.shape) == 4:\n",
    "                        batch_x  = train_x[ i*batch_size : (i+1)*batch_size ,:,:,: ]\n",
    "                        batch_y  = train_y[ i*batch_size : (i+1)*batch_size ,: ]\n",
    "                    elif len(train_x.shape) == 3:\n",
    "                        batch_x  = train_x[ i*batch_size : (i+1)*batch_size ,:,:]\n",
    "                        batch_y  = train_y[ i*batch_size : (i+1)*batch_size ,: ]\n",
    "\n",
    "                    sess.run(train, feed_dict = {X : batch_x, Y : batch_y} )\n",
    "                    l = sess.run(loss, feed_dict = {X : batch_x, Y : batch_y})\n",
    "                    acc = sess.run(accuracy, feed_dict = {X : batch_x, Y : batch_y} )\n",
    "\n",
    "                    total_loss += l\n",
    "\n",
    "                    if i%20 == 0 or i== total_batches-1  : \n",
    "                        print(\"batch \", i , \"/\",total_batches , \": loss=\", l, \", accuracy=\", acc)\n",
    "\n",
    "                epoch_time = time.time() - epoch_start\n",
    "                m = int(epoch_time / 60) \n",
    "                s = epoch_time - m*60 \n",
    "\n",
    "                print(\"=>epoch \", epoch, \" result: time=\",m,\"m \", int(s),\"s , \", \"total loss=\", total_loss )\n",
    "\n",
    "            print(\"Training Complete!\")\n",
    "\n",
    "            save_path = saver.save(sess, \"./ckpt/\"+name+\".ckpt\")\n",
    "            print(\"Model`s Variables are saved at : \", save_path)\n",
    "        else :\n",
    "            saver.restore(sess, ckptfile)\n",
    "\n",
    "        ##<validation> \n",
    "        val_acc = sess.run(accuracy, feed_dict = {X : valid_x , Y : valid_y})\n",
    "        print(\"=> Validation Set Accuracy is \", val_acc * 100 , \"%.\")\n"
   ]
  },
  {
   "cell_type": "code",
   "execution_count": null,
   "metadata": {},
   "outputs": [],
   "source": [
    "def cnn_graph(learning_rate = 0.001):\n",
    "    cnn = tf.Graph()\n",
    "    with cnn.as_default() :\n",
    "\n",
    "        #feed\n",
    "        X = tf.placeholder(name = \"X\", shape = [None, 50, 50 , 4], dtype = np.float32)\n",
    "        Y = tf.placeholder(name = \"Y\", shape = [None, 1], dtype = np.float32)\n",
    "\n",
    "        #TRAINABLE variables\n",
    "        w1 = tf.get_variable(shape = [5,5,4,64], initializer = tf.random_normal_initializer(stddev = 0.01, mean = 0.0), name = \"w1\")\n",
    "        w1_2 = tf.get_variable(shape = [7,7,64,32], initializer = tf.random_normal_initializer(stddev = 0.01, mean = 0.0), name = \"w1_2\")\n",
    "        #w2 = tf.get_variable(shape = [3,3,32,64], initializer= tf.random_normal_initializer(stddev = 0.01, mean= 0.0), name = 'w2')\n",
    "\n",
    "        #w3 = tf.get_variable(shape = [13*13*64 , 256], initializer= tf.random_normal_initializer(stddev = 0.01, mean = 0.0), name = \"w3\")\n",
    "        w3 = tf.get_variable(shape = [25*25*32 , 256], initializer= tf.random_normal_initializer(stddev = 0.01, mean = 0.0), name = \"w3\")\n",
    "        w4 = tf.get_variable(shape = [256 , 1], initializer= tf.random_normal_initializer(stddev = 0.01, mean = 0.0), name = \"w4\")\n",
    "\n",
    "        b3 = tf.get_variable(shape = [256], initializer= tf.random_normal_initializer(stddev = 0.01, mean = 0.0), name = \"b3\")\n",
    "        b4 = tf.get_variable(shape = [1], initializer= tf.random_normal_initializer(stddev = 0.01, mean = 0.0), name = \"b4\")\n",
    "\n",
    "        #Operations\n",
    "\n",
    "        #<conv1>\n",
    "        conv1_c = tf.nn.conv2d(X, w1 , strides = [1,1,1,1] , padding = 'SAME')\n",
    "        #conv1_c shape : [None, 50,50,32]\n",
    "        conv1_r = tf.nn.relu(conv1_c)\n",
    "\n",
    "        conv1_2_c = tf.nn.conv2d(conv1_r, w1_2 , strides = [1,1,1,1] , padding = 'SAME')\n",
    "        conv1_2_r = tf.nn.relu(conv1_2_c)\n",
    "\n",
    "        conv1_p = tf.nn.max_pool(conv1_2_r, ksize = [1,2,2,1] , strides = [1,2,2,1], padding = 'SAME')\n",
    "        #conv1_p shape : [None, 25,25, 32]\n",
    "\n",
    "        ##<conv2>\n",
    "        #conv2_c = tf.nn.conv2d(conv1_p , w2, strides = [1,1,1,1], padding = 'SAME')\n",
    "        ##conv2_c shape : [None, 25, 25, 64]\n",
    "        #conv2_r = tf.nn.relu(conv2_c)\n",
    "        #conv2_p = tf.nn.max_pool(conv2_r, ksize = [1,2,2,1], strides = [1,2,2,1], padding = 'SAME')\n",
    "        ##conv2_p shape : [None, 13, 13 ,64]\n",
    "\n",
    "        #<flattening>\n",
    "        #flattened = tf.reshape(conv2_p , [-1, 13*13*64])\n",
    "        flattened = tf.reshape(conv1_p , [-1, 25*25*32])\n",
    "\n",
    "        #<2 layer fully connected NN>\n",
    "        fc_1 = tf.nn.relu(tf.matmul(flattened , w3) + b3)\n",
    "        fc_2 = tf.nn.sigmoid(tf.matmul(fc_1, w4) + b4)\n",
    "\n",
    "\n",
    "        #Loss function : square mean\n",
    "        loss = tf.reduce_mean(tf.square(fc_2 - Y ))\n",
    "\n",
    "        #Optimizer : Adam Optimizer\n",
    "        optimizer = tf.train.AdamOptimizer(learning_rate)\n",
    "        train = optimizer.minimize(loss)\n",
    "\n",
    "        #Accuracy\n",
    "        fc_2 = fc_2 > 0.5\n",
    "        fc_2 = tf.to_float(fc_2)\n",
    "\n",
    "        accuracy = tf.reduce_mean(tf.to_float(tf.equal(fc_2, Y)))\n",
    "    tf.reset_default_graph()\n",
    "    op_list = [X, Y, loss, train, accuracy]\n",
    "    return cnn, op_list"
   ]
  },
  {
   "cell_type": "markdown",
   "metadata": {},
   "source": [
    "# Run CNN for  binary classification"
   ]
  },
  {
   "cell_type": "code",
   "execution_count": null,
   "metadata": {},
   "outputs": [],
   "source": [
    "#Draw graph\n",
    "cnn_g , cnn_op= cnn_graph()\n",
    "#Run graph\n",
    "runtime(name = \"2\", op_list = cnn_op, datalist = [ctrain_x ,ctrain_y, cvalid_x, cvalid_y], g = cnn_g  )\n",
    "\n",
    "\n",
    "cnn_g.get_operations()"
   ]
  },
  {
   "cell_type": "code",
   "execution_count": null,
   "metadata": {},
   "outputs": [],
   "source": [
    "cnn_g.get_collection('variables')"
   ]
  },
  {
   "cell_type": "markdown",
   "metadata": {},
   "source": [
    "# Run RNN  for  binary classification"
   ]
  },
  {
   "cell_type": "code",
   "execution_count": null,
   "metadata": {},
   "outputs": [],
   "source": [
    "#Draw graph\n",
    "rnn_g , rnn_op = rnn_graph()\n",
    "#Run graph\n",
    "runtime(name = \"rnn1\" ,datalist =[rtrain_x  ,rtrain_y, rvalid_x, rvalid_y], op_list = rnn_op, g = rnn_g)"
   ]
  },
  {
   "cell_type": "code",
   "execution_count": null,
   "metadata": {},
   "outputs": [],
   "source": [
    "data = pd.read_csv('./bitcoin_ticker.csv')"
   ]
  },
  {
   "cell_type": "code",
   "execution_count": null,
   "metadata": {},
   "outputs": [],
   "source": [
    "data = data[data['market'] == 'korbit']\n",
    "data = data[data['rpt_key'] == 'btc_krw']"
   ]
  },
  {
   "cell_type": "code",
   "execution_count": null,
   "metadata": {},
   "outputs": [],
   "source": [
    "data"
   ]
  },
  {
   "cell_type": "code",
   "execution_count": null,
   "metadata": {},
   "outputs": [],
   "source": [
    "data = data[['last', 'volume']]"
   ]
  },
  {
   "cell_type": "code",
   "execution_count": null,
   "metadata": {},
   "outputs": [],
   "source": [
    "def df_norm(df) : \n",
    "        newdf = (df - df.mean()) /(df.max() - df.min()) \n",
    "        return newdf - newdf.min()"
   ]
  },
  {
   "cell_type": "code",
   "execution_count": null,
   "metadata": {},
   "outputs": [],
   "source": [
    "data = df_norm(data[39000:])\n",
    "\n",
    "data.plot()"
   ]
  },
  {
   "cell_type": "code",
   "execution_count": null,
   "metadata": {
    "scrolled": false
   },
   "outputs": [],
   "source": [
    "\n",
    "df_norm(data[103*30:(104)*30]).plot()\n",
    "df_norm(data[104*30:(105)*30]).plot()"
   ]
  },
  {
   "cell_type": "code",
   "execution_count": null,
   "metadata": {},
   "outputs": [],
   "source": [
    "def visualize_weight(ckptfile, graph, index) :\n",
    "    with tf.Session(graph = graph) as sess:\n",
    "        saver = tf.train.Saver()\n",
    "        saver.restore(sess, ckptfile)\n",
    "\n",
    "        w1 = graph.get_tensor_by_name(\"w1:0\")\n",
    "        result = sess.run(w1)\n",
    "        p1 = np.reshape(result[:,:,:,index], [3,3,4])\n",
    "        print(p1.shape)\n",
    "        plt.imshow(p1)\n",
    "\n",
    "cnn_g , cnn_op = cnn_graph()\n",
    "\n",
    "for i in range(30) :\n",
    "    visualize_weight(\"./ckpt/cnn4.ckpt\", cnn_g, i)"
   ]
  },
  {
   "cell_type": "code",
   "execution_count": null,
   "metadata": {
    "collapsed": true
   },
   "outputs": [],
   "source": []
  }
 ],
 "metadata": {
  "kernelspec": {
   "display_name": "Python 3",
   "language": "python",
   "name": "python3"
  },
  "language_info": {
   "codemirror_mode": {
    "name": "ipython",
    "version": 3
   },
   "file_extension": ".py",
   "mimetype": "text/x-python",
   "name": "python",
   "nbconvert_exporter": "python",
   "pygments_lexer": "ipython3",
   "version": "3.6.3"
  }
 },
 "nbformat": 4,
 "nbformat_minor": 2
}
